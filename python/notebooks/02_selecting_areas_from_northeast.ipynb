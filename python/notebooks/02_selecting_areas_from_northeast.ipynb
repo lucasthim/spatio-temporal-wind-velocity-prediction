{
 "cells": [
  {
   "cell_type": "markdown",
   "metadata": {},
   "source": [
    "# Area selection based on Wind Spead\n",
    "\n",
    "All automatic stations in Northeast region of Brazil will be analysed"
   ]
  },
  {
   "cell_type": "code",
   "execution_count": 2,
   "metadata": {},
   "outputs": [],
   "source": [
    "import pandas as pd\n",
    "import numpy as np\n",
    "import matplotlib.pyplot as plt\n",
    "import seaborn as sns\n",
    "from geopy.distance import distance\n",
    "\n",
    "import os\n",
    "\n",
    "%load_ext autoreload\n",
    "%autoreload 2\n",
    "from data_preprocessing import initial_data_preprocessing\n",
    "\n",
    "pd.set_option('display.max_rows', 100)\n",
    "pd.set_option('display.max_columns', 1000)\n",
    "pd.set_option('display.width', 1000)\n"
   ]
  },
  {
   "cell_type": "code",
   "execution_count": 25,
   "metadata": {},
   "outputs": [],
   "source": [
    "df_catalog_automatic_stations = pd.read_excel('./../../data/automatic_stations_catalog.xlsx')[[\n",
    "                                                        'DC_NOME','SG_ESTADO','CD_SITUACAO',\n",
    "                                                        'VL_LATITUDE','VL_LONGITUDE','VL_ALTITUDE',\n",
    "                                                        'DT_INICIO_OPERACAO','CD_ESTACAO']]\n",
    "\n",
    "df_catalog_automatic_stations = df_catalog_automatic_stations.query(\"CD_SITUACAO != 'Pane'\")\n",
    "\n",
    "northeast_stations = os.listdir('./../../data/raw_data')\n",
    "# northeast_stations = [x.split('.')[0].replace('dados_','') for x in northeast_stations]\n",
    "df_northeast_stations = pd.DataFrame(data=northeast_stations,columns=['STATION_FILE_NAME'])\n",
    "df_northeast_stations['CD_ESTACAO'] = [x.split('.')[0].replace('dados_','').split('_H_')[0] for x in northeast_stations]\n",
    "df_northeast_stations = df_northeast_stations.merge(df_catalog_automatic_stations,on='CD_ESTACAO')"
   ]
  },
  {
   "cell_type": "code",
   "execution_count": 24,
   "metadata": {},
   "outputs": [
    {
     "name": "stdout",
     "output_type": "stream",
     "text": [
      "Analysing A424 - IRECE station\n",
      "Dataset initial size:  (90072, 23)\n",
      "Dataset final size:  (39948, 23)\n"
     ]
    }
   ],
   "source": [
    "for ii,station in df_northeast_stations.iterrows():\n",
    "    df = pd.read_csv(\"./../../data/raw_data/\" + station['STATION_FILE_NAME'],header=9,sep=';')\n",
    "    print(f\"Analysing {station['CD_ESTACAO']} - {station['DC_NOME']} station\")\n",
    "    df = initial_data_preprocessing(df)\n",
    "    break"
   ]
  },
  {
   "cell_type": "code",
   "execution_count": 46,
   "metadata": {},
   "outputs": [
    {
     "data": {
      "text/plain": [
       "16275"
      ]
     },
     "execution_count": 46,
     "metadata": {},
     "output_type": "execute_result"
    }
   ],
   "source": [
    "df.isna().sum().sum() #/ (df.shape[0] * (df.shape[1]- 4)) * 100"
   ]
  },
  {
   "cell_type": "code",
   "execution_count": 49,
   "metadata": {},
   "outputs": [
    {
     "data": {
      "text/plain": [
       "(36335, 23)"
      ]
     },
     "execution_count": 49,
     "metadata": {},
     "output_type": "execute_result"
    }
   ],
   "source": [
    "df.dropna().shape"
   ]
  },
  {
   "cell_type": "code",
   "execution_count": 51,
   "metadata": {},
   "outputs": [
    {
     "data": {
      "text/plain": [
       "{'WIND_SPEED_mean': 2.6444552918794435,\n",
       " 'WIND_SPEED_120m_mean': 4.1263475348402165,\n",
       " 'WIND_SPEED_median': 2.6,\n",
       " 'WIND_SPEED_120m_median': 4.056980514486104,\n",
       " 'WIND_SPEED_std': 1.540014439902529,\n",
       " 'WIND_SPEED_120m_std': 2.403003297966074,\n",
       " 'MINIMUM_DATE': '2017-09-19',\n",
       " 'DATASET_SIZE': 39948,\n",
       " 'NULLS_QUANTITY': 16275,\n",
       " 'NON_NULL_DATASET_SIZE': 36335}"
      ]
     },
     "execution_count": 51,
     "metadata": {},
     "output_type": "execute_result"
    }
   ],
   "source": [
    "df_s = df[['WIND_SPEED_120m_ms']].agg([np.mean,np.median,np.std]) \n",
    "\n",
    "wind_statistics = {\n",
    "    'WIND_SPEED_mean': df['WIND_SPEED_ms'].mean(),\n",
    "    'WIND_SPEED_120m_mean': df['WIND_SPEED_120m_ms'].mean(),\n",
    "    'WIND_SPEED_median': df['WIND_SPEED_ms'].median(),\n",
    "    'WIND_SPEED_120m_median': df['WIND_SPEED_120m_ms'].median(),\n",
    "    'WIND_SPEED_std': df['WIND_SPEED_ms'].std(),\n",
    "    'WIND_SPEED_120m_std': df['WIND_SPEED_120m_ms'].std(),\n",
    "    'MINIMUM_DATE': df['DATE_MEASUREMENT'].min(),\n",
    "    'DATASET_SIZE': df['WIND_SPEED_ms'].shape[0],\n",
    "    'NON_NULL_DATASET_SIZE': df.dropna().shape[0],\n",
    "    'NULL_CELLS_QUANTITY': df.isna().sum().sum(),\n",
    "\n",
    "}\n",
    "wind_statistics"
   ]
  },
  {
   "cell_type": "code",
   "execution_count": null,
   "metadata": {},
   "outputs": [],
   "source": []
  },
  {
   "cell_type": "code",
   "execution_count": 33,
   "metadata": {},
   "outputs": [
    {
     "data": {
      "text/html": [
       "<div>\n",
       "<style scoped>\n",
       "    .dataframe tbody tr th:only-of-type {\n",
       "        vertical-align: middle;\n",
       "    }\n",
       "\n",
       "    .dataframe tbody tr th {\n",
       "        vertical-align: top;\n",
       "    }\n",
       "\n",
       "    .dataframe thead th {\n",
       "        text-align: right;\n",
       "    }\n",
       "</style>\n",
       "<table border=\"1\" class=\"dataframe\">\n",
       "  <thead>\n",
       "    <tr style=\"text-align: right;\">\n",
       "      <th></th>\n",
       "      <th>WIND_SPEED_ms</th>\n",
       "      <th>WIND_SPEED_120m_ms</th>\n",
       "    </tr>\n",
       "  </thead>\n",
       "  <tbody>\n",
       "    <tr>\n",
       "      <th>mean</th>\n",
       "      <td>2.644455</td>\n",
       "      <td>4.126348</td>\n",
       "    </tr>\n",
       "    <tr>\n",
       "      <th>median</th>\n",
       "      <td>2.600000</td>\n",
       "      <td>4.056981</td>\n",
       "    </tr>\n",
       "    <tr>\n",
       "      <th>std</th>\n",
       "      <td>1.540014</td>\n",
       "      <td>2.403003</td>\n",
       "    </tr>\n",
       "  </tbody>\n",
       "</table>\n",
       "</div>"
      ],
      "text/plain": [
       "        WIND_SPEED_ms  WIND_SPEED_120m_ms\n",
       "mean         2.644455            4.126348\n",
       "median       2.600000            4.056981\n",
       "std          1.540014            2.403003"
      ]
     },
     "execution_count": 33,
     "metadata": {},
     "output_type": "execute_result"
    }
   ],
   "source": [
    "df_s"
   ]
  },
  {
   "cell_type": "code",
   "execution_count": null,
   "metadata": {},
   "outputs": [],
   "source": [
    "def extract_wind_speed_statistics(df: pd.DataFrame) -> dict:\n",
    "    '''\n",
    "    Extracts relevant information about the wind speed from the automatic stations.\n",
    "    \n",
    "    Parameters\n",
    "    ----------\n",
    "    df: Preprocessed dataframe containing the historic information about the wind speed and direction.\n",
    "    \n",
    "    Returns \n",
    "    ----------\n",
    "    statistics: dict containing the mean, median, std and minimum date available for the wind speed.\n",
    "\n",
    "    '''\n",
    "\n",
    "    df = df[['WIND_SPEED_ms','WIND_SPEED_120m_ms']].agg([np.mean,np.median,np.std]) #pivotar essa tabela para achatar esse dataframe, transformar tudo em uma linha so com o nome da estacao.\n"
   ]
  },
  {
   "cell_type": "code",
   "execution_count": 4,
   "metadata": {},
   "outputs": [
    {
     "data": {
      "text/plain": [
       "array(['MT', 'MS', 'DF', 'MG', 'ES', 'RS', 'TO', 'GO', 'BA', 'RJ', 'SC',\n",
       "       'PA', 'SP', 'MA', 'SE', 'RR', 'CE', 'PE', 'AL', 'PB', 'PI', 'RN',\n",
       "       'PR', 'AM', 'AP', 'AC', 'RO'], dtype=object)"
      ]
     },
     "execution_count": 4,
     "metadata": {},
     "output_type": "execute_result"
    }
   ],
   "source": [
    "df_automatic_stations['SG_ESTADO'].unique()\n",
    "\n",
    "states = ['BA','']"
   ]
  },
  {
   "cell_type": "code",
   "execution_count": null,
   "metadata": {},
   "outputs": [],
   "source": []
  }
 ],
 "metadata": {
  "interpreter": {
   "hash": "ff5b71a57004aac41c92d4008d66e8c8a20573ad91c6a09451338db6162a1ae6"
  },
  "kernelspec": {
   "display_name": "Python 3.10.4 ('base_ml')",
   "language": "python",
   "name": "python3"
  },
  "language_info": {
   "codemirror_mode": {
    "name": "ipython",
    "version": 3
   },
   "file_extension": ".py",
   "mimetype": "text/x-python",
   "name": "python",
   "nbconvert_exporter": "python",
   "pygments_lexer": "ipython3",
   "version": "3.10.4"
  },
  "orig_nbformat": 4
 },
 "nbformat": 4,
 "nbformat_minor": 2
}
