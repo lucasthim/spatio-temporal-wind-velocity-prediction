{
 "cells": [
  {
   "cell_type": "markdown",
   "metadata": {},
   "source": [
    "# Generating Features and Dataset to ML models"
   ]
  },
  {
   "cell_type": "code",
   "execution_count": 4,
   "metadata": {},
   "outputs": [
    {
     "name": "stdout",
     "output_type": "stream",
     "text": [
      "The autoreload extension is already loaded. To reload it, use:\n",
      "  %reload_ext autoreload\n"
     ]
    }
   ],
   "source": [
    "import glob\n",
    "import warnings\n",
    "\n",
    "import pandas as pd\n",
    "import numpy as np\n",
    "import matplotlib.pyplot as plt\n",
    "import seaborn as sns\n",
    "\n",
    "%load_ext autoreload\n",
    "%autoreload 2\n",
    "from data_preprocessing import *\n",
    "\n",
    "warnings.filterwarnings(\"ignore\")\n",
    "pd.set_option('display.max_rows', 100)\n",
    "pd.set_option('display.max_columns', 1000)\n",
    "pd.set_option('display.width', 1000)"
   ]
  },
  {
   "cell_type": "markdown",
   "metadata": {},
   "source": [
    "## Final preprocessing on Historical Dataset"
   ]
  },
  {
   "cell_type": "code",
   "execution_count": 5,
   "metadata": {},
   "outputs": [],
   "source": [
    "df_stations = pd.read_csv(\"./../../data/preprocessed/wind_data_conde_and_adjacent_stations.csv\")\n",
    "df_stations = df_stations.drop(columns=['WIND_SPEED_120m_ms'])\n",
    "df_stations['DATETIME'] = pd.to_datetime(df_stations['DATETIME'])"
   ]
  },
  {
   "cell_type": "code",
   "execution_count": 6,
   "metadata": {},
   "outputs": [
    {
     "name": "stdout",
     "output_type": "stream",
     "text": [
      "Processing station A431-CONDE. Current size: 26179 hour points.\n",
      "Resampled 149 hour points\n",
      "\n",
      "Processing station A458-RIBEIRA DO AMPARO. Current size: 16432 hour points.\n",
      "Resampled 3443 hour points\n",
      "\n",
      "Processing station A409-ARACAJU. Current size: 26328 hour points.\n",
      "Resampled 0 hour points\n",
      "\n",
      "Processing station A401-SALVADOR. Current size: 26309 hour points.\n",
      "Resampled 19 hour points\n",
      "\n",
      "Processing station A413-FEIRA DE SANTANA. Current size: 24295 hour points.\n",
      "Resampled 2033 hour points\n",
      "\n",
      "Processing station A406-CRUZ DAS ALMAS. Current size: 21906 hour points.\n",
      "Resampled 4418 hour points\n",
      "\n",
      "Processing station A442-EUCLIDES DA CUNHA. Current size: 21968 hour points.\n",
      "Resampled 4348 hour points\n",
      "\n",
      "Processing station A450-JEREMOABO. Current size: 26261 hour points.\n",
      "Resampled 67 hour points\n",
      "\n",
      "Processing station A434-AMARGOSA. Current size: 25194 hour points.\n",
      "Resampled 1134 hour points\n",
      "\n",
      "Processing station A436-QUEIMADAS. Current size: 22296 hour points.\n",
      "Resampled 3966 hour points\n",
      "\n"
     ]
    }
   ],
   "source": [
    "cols_to_fill = df_stations.drop(columns=['WIND_SPEED_ms','WIND_DIRECTION_degrees','WIND_MAX_GUNS_ms']).columns.tolist()\n",
    "df_stations_processed_forward = prepare_data_for_feature_generation(\n",
    "                                    df=df_stations,\n",
    "                                    fillna_method='rolling',\n",
    "                                    cols_to_fill=cols_to_fill)"
   ]
  },
  {
   "cell_type": "code",
   "execution_count": 7,
   "metadata": {},
   "outputs": [
    {
     "name": "stdout",
     "output_type": "stream",
     "text": [
      "Processing station A431-CONDE. Current size: 26179 hour points.\n",
      "Resampled 149 hour points\n",
      "\n",
      "Processing station A458-RIBEIRA DO AMPARO. Current size: 16432 hour points.\n",
      "Resampled 3443 hour points\n",
      "\n",
      "Processing station A409-ARACAJU. Current size: 26328 hour points.\n",
      "Resampled 0 hour points\n",
      "\n",
      "Processing station A401-SALVADOR. Current size: 26309 hour points.\n",
      "Resampled 19 hour points\n",
      "\n",
      "Processing station A413-FEIRA DE SANTANA. Current size: 24295 hour points.\n",
      "Resampled 2033 hour points\n",
      "\n",
      "Processing station A406-CRUZ DAS ALMAS. Current size: 21906 hour points.\n",
      "Resampled 4418 hour points\n",
      "\n",
      "Processing station A442-EUCLIDES DA CUNHA. Current size: 21968 hour points.\n",
      "Resampled 4348 hour points\n",
      "\n",
      "Processing station A450-JEREMOABO. Current size: 26261 hour points.\n",
      "Resampled 67 hour points\n",
      "\n",
      "Processing station A434-AMARGOSA. Current size: 25194 hour points.\n",
      "Resampled 1134 hour points\n",
      "\n",
      "Processing station A436-QUEIMADAS. Current size: 22296 hour points.\n",
      "Resampled 3966 hour points\n",
      "\n"
     ]
    }
   ],
   "source": [
    "cols_to_fill = df_stations.drop(columns=['WIND_SPEED_ms','WIND_DIRECTION_degrees','WIND_MAX_GUNS_ms']).columns.tolist()\n",
    "df_stations_processed_rolling = prepare_data_for_feature_generation(\n",
    "                                    df=df_stations,\n",
    "                                    fillna_method='forward_fill',\n",
    "                                    cols_to_fill=cols_to_fill)"
   ]
  },
  {
   "cell_type": "markdown",
   "metadata": {},
   "source": [
    "### Generating Hourly Features"
   ]
  },
  {
   "cell_type": "code",
   "execution_count": 8,
   "metadata": {},
   "outputs": [],
   "source": [
    "main_hourly_features = ['TOTAL_PRECIPITATION_mm', 'ATM_PRESSURE_mB', 'ATM_PRESSURE_SEA_LEVEL_mB', 'MAX_ATM_PRESSURE_PREV_HOUR_mB', \n",
    "'MIN_ATM_PRESSURE_PREV_HOUR_mB', 'GLOBAL_RADIATION_Kjm2', 'AIR_TEMPERATURE_DRY_BULB_Celsius', 'DEW_POINT_TEMPERATURE_Celsius', \n",
    "'MAX_TEMPERATURE_PREV_HOUR_Celsius', 'MIN_TEMPERATURE_PREV_HOUR_Celsius', 'DEW_POINT_MAX_TEMPERATURE_PREV_HOUR_Celsius', \n",
    "'DEW_POINT_MIN_TEMPERATURE_PREV_HOUR_Celsius', 'MAX_RELATIVE_HUMIDITY_PREV_HOUR_percentage', \n",
    "'MIN_RELATIVE_HUMIDITY_PREV_HOUR_percentage', 'RELATIVE_HUMIDITY_percentage', 'WIND_DIRECTION_degrees', \n",
    "'WIND_MAX_GUNS_ms', 'WIND_SPEED_ms']\n",
    "\n",
    "fixed_features = ['LATITUDE', 'LONGITUDE', 'ALTITUDE', 'MONTH', 'DAY', 'HOUR']\n",
    "\n",
    "targets = ['WIND_DIRECTION_degrees', 'WIND_MAX_GUNS_ms', 'WIND_SPEED_ms']\n",
    "\n",
    "cols_to_drop = ['NAME','CODE','DATETIME']\n",
    "\n",
    "df = df_stations_processed_forward\n",
    "\n",
    "station_codes = df['CODE'].unique()\n",
    "station_names = df['NAME'].unique()\n",
    "stations_data = []\n",
    "for code,name in zip(station_codes,station_names):\n",
    "\n",
    "    df_code = df.query(\"CODE == @code\")\n",
    "    size_before = df_code.shape[0]\n",
    "    print(f\"Processing station {code}-{name}. Current size: {size_before} hour points.\")\n",
    "    df_code.sort_values(by='DATETIME',ascending=True,inplace=True)\n",
    "    \n",
    "    # target\n",
    "    df_code[targets].shift(1)\n"
   ]
  },
  {
   "cell_type": "code",
   "execution_count": 13,
   "metadata": {},
   "outputs": [
    {
     "data": {
      "text/plain": [
       "0        NaN\n",
       "1        4.2\n",
       "2        3.9\n",
       "3        2.9\n",
       "4        3.0\n",
       "        ... \n",
       "26323    3.6\n",
       "26324    2.7\n",
       "26325    3.8\n",
       "26326    4.2\n",
       "26327    4.0\n",
       "Name: WIND_SPEED_ms, Length: 24295, dtype: float64"
      ]
     },
     "execution_count": 13,
     "metadata": {},
     "output_type": "execute_result"
    }
   ],
   "source": [
    "df_stations_processed_forward.query(\"CODE == 'A413'\")['WIND_SPEED_ms'].shift(1)"
   ]
  },
  {
   "cell_type": "code",
   "execution_count": null,
   "metadata": {},
   "outputs": [],
   "source": []
  }
 ],
 "metadata": {
  "interpreter": {
   "hash": "aee8b7b246df8f9039afb4144a1f6fd8d2ca17a180786b69acc140d282b71a49"
  },
  "kernelspec": {
   "display_name": "Python 3.10.4 64-bit",
   "language": "python",
   "name": "python3"
  },
  "language_info": {
   "codemirror_mode": {
    "name": "ipython",
    "version": 3
   },
   "file_extension": ".py",
   "mimetype": "text/x-python",
   "name": "python",
   "nbconvert_exporter": "python",
   "pygments_lexer": "ipython3",
   "version": "3.10.4"
  },
  "orig_nbformat": 4
 },
 "nbformat": 4,
 "nbformat_minor": 2
}
