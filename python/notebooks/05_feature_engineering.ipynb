{
 "cells": [
  {
   "cell_type": "markdown",
   "metadata": {},
   "source": [
    "# Generating Features and Dataset to ML models"
   ]
  },
  {
   "cell_type": "code",
   "execution_count": 1,
   "metadata": {},
   "outputs": [],
   "source": [
    "import glob\n",
    "\n",
    "import pandas as pd\n",
    "import numpy as np\n",
    "import matplotlib.pyplot as plt\n",
    "import seaborn as sns\n",
    "\n",
    "%load_ext autoreload\n",
    "%autoreload 2\n",
    "from data_preprocessing import *\n",
    "\n",
    "pd.set_option('display.max_rows', 100)\n",
    "pd.set_option('display.max_columns', 1000)\n",
    "pd.set_option('display.width', 1000)"
   ]
  },
  {
   "cell_type": "markdown",
   "metadata": {},
   "source": [
    "## Final cleaning on Historical Dataset"
   ]
  },
  {
   "cell_type": "code",
   "execution_count": 27,
   "metadata": {},
   "outputs": [],
   "source": [
    "df_stations = pd.read_csv(\"./../../data/preprocessed/wind_data_conde_and_adjacent_stations.csv\")\n",
    "df_stations = df_stations.drop(columns=['WIND_SPEED_120m_ms','NAME'])\n",
    "df_stations['DATETIME'] = pd.to_datetime(df_stations['DATETIME'])\n"
   ]
  },
  {
   "cell_type": "code",
   "execution_count": 28,
   "metadata": {},
   "outputs": [
    {
     "data": {
      "text/html": [
       "<div>\n",
       "<style scoped>\n",
       "    .dataframe tbody tr th:only-of-type {\n",
       "        vertical-align: middle;\n",
       "    }\n",
       "\n",
       "    .dataframe tbody tr th {\n",
       "        vertical-align: top;\n",
       "    }\n",
       "\n",
       "    .dataframe thead th {\n",
       "        text-align: right;\n",
       "    }\n",
       "</style>\n",
       "<table border=\"1\" class=\"dataframe\">\n",
       "  <thead>\n",
       "    <tr style=\"text-align: right;\">\n",
       "      <th></th>\n",
       "      <th>TOTAL_PRECIPITATION_mm</th>\n",
       "      <th>ATM_PRESSURE_mB</th>\n",
       "      <th>ATM_PRESSURE_SEA_LEVEL_mB</th>\n",
       "      <th>MAX_ATM_PRESSURE_PREV_HOUR_mB</th>\n",
       "      <th>MIN_ATM_PRESSURE_PREV_HOUR_mB</th>\n",
       "      <th>GLOBAL_RADIATION_Kjm2</th>\n",
       "      <th>AIR_TEMPERATURE_DRY_BULB_Celsius</th>\n",
       "      <th>DEW_POINT_TEMPERATURE_Celsius</th>\n",
       "      <th>MAX_TEMPERATURE_PREV_HOUR_Celsius</th>\n",
       "      <th>MIN_TEMPERATURE_PREV_HOUR_Celsius</th>\n",
       "      <th>DEW_POINT_MAX_TEMPERATURE_PREV_HOUR_Celsius</th>\n",
       "      <th>DEW_POINT_MIN_TEMPERATURE_PREV_HOUR_Celsius</th>\n",
       "      <th>MAX_RELATIVE_HUMIDITY_PREV_HOUR_percentage</th>\n",
       "      <th>MIN_RELATIVE_HUMIDITY_PREV_HOUR_percentage</th>\n",
       "      <th>RELATIVE_HUMIDITY_percentage</th>\n",
       "      <th>WIND_DIRECTION_degrees</th>\n",
       "      <th>WIND_MAX_GUNS_ms</th>\n",
       "      <th>WIND_SPEED_ms</th>\n",
       "      <th>LATITUDE</th>\n",
       "      <th>LONGITUDE</th>\n",
       "      <th>ALTITUDE</th>\n",
       "      <th>YEAR</th>\n",
       "      <th>MONTH</th>\n",
       "      <th>DAY</th>\n",
       "      <th>HOUR</th>\n",
       "      <th>DATETIME</th>\n",
       "      <th>CODE</th>\n",
       "    </tr>\n",
       "  </thead>\n",
       "  <tbody>\n",
       "    <tr>\n",
       "      <th>0</th>\n",
       "      <td>0.0</td>\n",
       "      <td>1009.6</td>\n",
       "      <td>NaN</td>\n",
       "      <td>1009.6</td>\n",
       "      <td>1009.3</td>\n",
       "      <td>-3.54</td>\n",
       "      <td>26.1</td>\n",
       "      <td>23.5</td>\n",
       "      <td>26.3</td>\n",
       "      <td>26.0</td>\n",
       "      <td>23.6</td>\n",
       "      <td>23.3</td>\n",
       "      <td>86.0</td>\n",
       "      <td>84.0</td>\n",
       "      <td>86.0</td>\n",
       "      <td>81.0</td>\n",
       "      <td>7.4</td>\n",
       "      <td>3.9</td>\n",
       "      <td>-12.035833</td>\n",
       "      <td>-37.683889</td>\n",
       "      <td>31.9</td>\n",
       "      <td>2018</td>\n",
       "      <td>1</td>\n",
       "      <td>1</td>\n",
       "      <td>0</td>\n",
       "      <td>2018-01-01 00:00:00</td>\n",
       "      <td>A431</td>\n",
       "    </tr>\n",
       "    <tr>\n",
       "      <th>1</th>\n",
       "      <td>0.0</td>\n",
       "      <td>1009.7</td>\n",
       "      <td>1013.559272</td>\n",
       "      <td>1009.8</td>\n",
       "      <td>1009.6</td>\n",
       "      <td>-3.54</td>\n",
       "      <td>26.1</td>\n",
       "      <td>23.3</td>\n",
       "      <td>26.1</td>\n",
       "      <td>26.0</td>\n",
       "      <td>23.7</td>\n",
       "      <td>23.3</td>\n",
       "      <td>87.0</td>\n",
       "      <td>85.0</td>\n",
       "      <td>85.0</td>\n",
       "      <td>80.0</td>\n",
       "      <td>8.1</td>\n",
       "      <td>4.3</td>\n",
       "      <td>-12.035833</td>\n",
       "      <td>-37.683889</td>\n",
       "      <td>31.9</td>\n",
       "      <td>2018</td>\n",
       "      <td>1</td>\n",
       "      <td>1</td>\n",
       "      <td>1</td>\n",
       "      <td>2018-01-01 01:00:00</td>\n",
       "      <td>A431</td>\n",
       "    </tr>\n",
       "    <tr>\n",
       "      <th>2</th>\n",
       "      <td>0.0</td>\n",
       "      <td>1009.7</td>\n",
       "      <td>1013.560564</td>\n",
       "      <td>1009.9</td>\n",
       "      <td>1009.7</td>\n",
       "      <td>-3.54</td>\n",
       "      <td>26.0</td>\n",
       "      <td>23.4</td>\n",
       "      <td>26.1</td>\n",
       "      <td>26.0</td>\n",
       "      <td>23.5</td>\n",
       "      <td>23.3</td>\n",
       "      <td>86.0</td>\n",
       "      <td>85.0</td>\n",
       "      <td>85.0</td>\n",
       "      <td>89.0</td>\n",
       "      <td>9.3</td>\n",
       "      <td>5.6</td>\n",
       "      <td>-12.035833</td>\n",
       "      <td>-37.683889</td>\n",
       "      <td>31.9</td>\n",
       "      <td>2018</td>\n",
       "      <td>1</td>\n",
       "      <td>1</td>\n",
       "      <td>2</td>\n",
       "      <td>2018-01-01 02:00:00</td>\n",
       "      <td>A431</td>\n",
       "    </tr>\n",
       "    <tr>\n",
       "      <th>3</th>\n",
       "      <td>0.0</td>\n",
       "      <td>1009.0</td>\n",
       "      <td>1012.859181</td>\n",
       "      <td>1009.7</td>\n",
       "      <td>1009.0</td>\n",
       "      <td>-3.54</td>\n",
       "      <td>25.9</td>\n",
       "      <td>23.3</td>\n",
       "      <td>26.1</td>\n",
       "      <td>25.9</td>\n",
       "      <td>23.4</td>\n",
       "      <td>23.1</td>\n",
       "      <td>86.0</td>\n",
       "      <td>84.0</td>\n",
       "      <td>86.0</td>\n",
       "      <td>82.0</td>\n",
       "      <td>10.9</td>\n",
       "      <td>4.9</td>\n",
       "      <td>-12.035833</td>\n",
       "      <td>-37.683889</td>\n",
       "      <td>31.9</td>\n",
       "      <td>2018</td>\n",
       "      <td>1</td>\n",
       "      <td>1</td>\n",
       "      <td>3</td>\n",
       "      <td>2018-01-01 03:00:00</td>\n",
       "      <td>A431</td>\n",
       "    </tr>\n",
       "    <tr>\n",
       "      <th>4</th>\n",
       "      <td>0.0</td>\n",
       "      <td>1008.5</td>\n",
       "      <td>1012.359855</td>\n",
       "      <td>1009.0</td>\n",
       "      <td>1008.5</td>\n",
       "      <td>-3.54</td>\n",
       "      <td>25.7</td>\n",
       "      <td>23.1</td>\n",
       "      <td>25.9</td>\n",
       "      <td>25.6</td>\n",
       "      <td>23.3</td>\n",
       "      <td>23.0</td>\n",
       "      <td>86.0</td>\n",
       "      <td>85.0</td>\n",
       "      <td>86.0</td>\n",
       "      <td>77.0</td>\n",
       "      <td>9.3</td>\n",
       "      <td>4.2</td>\n",
       "      <td>-12.035833</td>\n",
       "      <td>-37.683889</td>\n",
       "      <td>31.9</td>\n",
       "      <td>2018</td>\n",
       "      <td>1</td>\n",
       "      <td>1</td>\n",
       "      <td>4</td>\n",
       "      <td>2018-01-01 04:00:00</td>\n",
       "      <td>A431</td>\n",
       "    </tr>\n",
       "  </tbody>\n",
       "</table>\n",
       "</div>"
      ],
      "text/plain": [
       "   TOTAL_PRECIPITATION_mm  ATM_PRESSURE_mB  ATM_PRESSURE_SEA_LEVEL_mB  MAX_ATM_PRESSURE_PREV_HOUR_mB  MIN_ATM_PRESSURE_PREV_HOUR_mB  GLOBAL_RADIATION_Kjm2  AIR_TEMPERATURE_DRY_BULB_Celsius  DEW_POINT_TEMPERATURE_Celsius  MAX_TEMPERATURE_PREV_HOUR_Celsius  MIN_TEMPERATURE_PREV_HOUR_Celsius  DEW_POINT_MAX_TEMPERATURE_PREV_HOUR_Celsius  DEW_POINT_MIN_TEMPERATURE_PREV_HOUR_Celsius  MAX_RELATIVE_HUMIDITY_PREV_HOUR_percentage  MIN_RELATIVE_HUMIDITY_PREV_HOUR_percentage  RELATIVE_HUMIDITY_percentage  WIND_DIRECTION_degrees  WIND_MAX_GUNS_ms  WIND_SPEED_ms   LATITUDE  LONGITUDE  ALTITUDE  YEAR  MONTH  DAY  HOUR            DATETIME  CODE\n",
       "0                     0.0           1009.6                        NaN                         1009.6                         1009.3                  -3.54                              26.1                           23.5                               26.3                               26.0                                         23.6                                         23.3                                        86.0                                        84.0                          86.0                    81.0               7.4            3.9 -12.035833 -37.683889      31.9  2018      1    1     0 2018-01-01 00:00:00  A431\n",
       "1                     0.0           1009.7                1013.559272                         1009.8                         1009.6                  -3.54                              26.1                           23.3                               26.1                               26.0                                         23.7                                         23.3                                        87.0                                        85.0                          85.0                    80.0               8.1            4.3 -12.035833 -37.683889      31.9  2018      1    1     1 2018-01-01 01:00:00  A431\n",
       "2                     0.0           1009.7                1013.560564                         1009.9                         1009.7                  -3.54                              26.0                           23.4                               26.1                               26.0                                         23.5                                         23.3                                        86.0                                        85.0                          85.0                    89.0               9.3            5.6 -12.035833 -37.683889      31.9  2018      1    1     2 2018-01-01 02:00:00  A431\n",
       "3                     0.0           1009.0                1012.859181                         1009.7                         1009.0                  -3.54                              25.9                           23.3                               26.1                               25.9                                         23.4                                         23.1                                        86.0                                        84.0                          86.0                    82.0              10.9            4.9 -12.035833 -37.683889      31.9  2018      1    1     3 2018-01-01 03:00:00  A431\n",
       "4                     0.0           1008.5                1012.359855                         1009.0                         1008.5                  -3.54                              25.7                           23.1                               25.9                               25.6                                         23.3                                         23.0                                        86.0                                        85.0                          86.0                    77.0               9.3            4.2 -12.035833 -37.683889      31.9  2018      1    1     4 2018-01-01 04:00:00  A431"
      ]
     },
     "execution_count": 28,
     "metadata": {},
     "output_type": "execute_result"
    }
   ],
   "source": [
    "df_stations.head()"
   ]
  },
  {
   "cell_type": "code",
   "execution_count": 44,
   "metadata": {},
   "outputs": [
    {
     "data": {
      "text/plain": [
       "(237168, 27)"
      ]
     },
     "execution_count": 44,
     "metadata": {},
     "output_type": "execute_result"
    }
   ],
   "source": [
    "df_stations.shape"
   ]
  },
  {
   "cell_type": "code",
   "execution_count": 53,
   "metadata": {},
   "outputs": [],
   "source": [
    "def prepare_data_for_feature_generation(df,fillna_method = 'forward_fill',columns_not_to_fill=['WIND_SPEED_ms','WIND_DIRECTION_degrees','WIND_MAX_GUNS_ms']):\n",
    "    '''\n",
    "    Function to prepare dataset for feature generation.\n",
    "    \n",
    "    Steps are:\n",
    "\n",
    "    - Resample dataset in order to maintain hour time structure, since there are some missing hours.\n",
    "\n",
    "    - Forward fill of missing values. \n",
    "    \n",
    "    Parameters\n",
    "    ----------\n",
    "\n",
    "    df: main dataset containing metheorological data from automatic stations.\n",
    "\n",
    "    fillna_method: Flag to indicate type of missing value filling. Possible methods are: None, 'forward_fill'. If it is None, no imputation is used.\n",
    "\n",
    "\n",
    "    Returns\n",
    "    ---------\n",
    "    \n",
    "    '''\n",
    "    station_codes = df['CODE'].unique()\n",
    "    stations_data = []\n",
    "    for code in station_codes:\n",
    "\n",
    "        df_code = df.query(\"CODE == @code\")\n",
    "        size_before = df_code.shape[0]\n",
    "        print(f\"Processing station {code}. Current size: {size_before} hour points.\")\n",
    "        df_code = resample_hours_for_wind_speed(df_code)\n",
    "        df_code.sort_values(by='DATETIME',ascending=True,inplace=True)\n",
    "        size_after = df_code.shape[0]\n",
    "        print(f\"Filled {size_after-size_before} hour points\\n\")\n",
    "        if fillna_method == 'forward_fill':\n",
    "            df_code = fill_missing_values_for_features(df_code,columns_not_to_fill)\n",
    "\n",
    "        stations_data.append(df_code)\n",
    "    df_stations = pd.concat(stations_data)\n",
    "    return df_stations\n",
    "\n",
    "def resample_hours_for_wind_speed(df):\n",
    "    return df.set_index('DATETIME').resample('H').first()\n",
    "\n",
    "def fill_missing_values_for_features(df,columns_not_to_fill):\n",
    "    # TODO: restrict fillna to non filling columns\n",
    "    # TODO: restrict forward fill to maximum of 1h\n",
    "    return df.fillna(method='ffill')"
   ]
  },
  {
   "cell_type": "code",
   "execution_count": 54,
   "metadata": {},
   "outputs": [
    {
     "name": "stdout",
     "output_type": "stream",
     "text": [
      "Processing station A431\n",
      "Filled 149 hour points\n",
      "\n",
      "Processing station A458\n",
      "Filled 3443 hour points\n",
      "\n",
      "Processing station A409\n",
      "Filled 0 hour points\n",
      "\n",
      "Processing station A401\n",
      "Filled 19 hour points\n",
      "\n",
      "Processing station A413\n",
      "Filled 2033 hour points\n",
      "\n",
      "Processing station A406\n",
      "Filled 4418 hour points\n",
      "\n",
      "Processing station A442\n",
      "Filled 4348 hour points\n",
      "\n",
      "Processing station A450\n",
      "Filled 67 hour points\n",
      "\n",
      "Processing station A434\n",
      "Filled 1134 hour points\n",
      "\n",
      "Processing station A436\n",
      "Filled 3966 hour points\n",
      "\n"
     ]
    }
   ],
   "source": [
    "df_stations_processed = prepare_data_for_feature_generation(df=df_stations,fillna_method='forward_fill')"
   ]
  },
  {
   "cell_type": "code",
   "execution_count": 52,
   "metadata": {},
   "outputs": [
    {
     "data": {
      "text/plain": [
       "(237168, 27)"
      ]
     },
     "execution_count": 52,
     "metadata": {},
     "output_type": "execute_result"
    }
   ],
   "source": [
    "df_stations.shape"
   ]
  },
  {
   "cell_type": "code",
   "execution_count": 51,
   "metadata": {},
   "outputs": [
    {
     "data": {
      "text/plain": [
       "(256745, 26)"
      ]
     },
     "execution_count": 51,
     "metadata": {},
     "output_type": "execute_result"
    }
   ],
   "source": [
    "df_stations_processed.shape"
   ]
  }
 ],
 "metadata": {
  "interpreter": {
   "hash": "aee8b7b246df8f9039afb4144a1f6fd8d2ca17a180786b69acc140d282b71a49"
  },
  "kernelspec": {
   "display_name": "Python 3.10.4 64-bit",
   "language": "python",
   "name": "python3"
  },
  "language_info": {
   "codemirror_mode": {
    "name": "ipython",
    "version": 3
   },
   "file_extension": ".py",
   "mimetype": "text/x-python",
   "name": "python",
   "nbconvert_exporter": "python",
   "pygments_lexer": "ipython3",
   "version": "3.10.4"
  },
  "orig_nbformat": 4
 },
 "nbformat": 4,
 "nbformat_minor": 2
}
