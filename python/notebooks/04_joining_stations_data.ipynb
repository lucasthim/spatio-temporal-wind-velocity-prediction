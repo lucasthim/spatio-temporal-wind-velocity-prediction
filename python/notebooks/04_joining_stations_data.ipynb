{
 "cells": [
  {
   "cell_type": "markdown",
   "metadata": {},
   "source": [
    "# Joining and Analysing data from all stations"
   ]
  },
  {
   "cell_type": "code",
   "execution_count": 1,
   "metadata": {},
   "outputs": [],
   "source": [
    "import glob\n",
    "\n",
    "import pandas as pd\n",
    "import numpy as np\n",
    "import matplotlib.pyplot as plt\n",
    "import seaborn as sns\n",
    "\n",
    "%load_ext autoreload\n",
    "%autoreload 2\n",
    "from data_preprocessing import *\n",
    "\n",
    "pd.set_option('display.max_rows', 100)\n",
    "pd.set_option('display.max_columns', 1000)\n",
    "pd.set_option('display.width', 1000)"
   ]
  },
  {
   "cell_type": "code",
   "execution_count": 2,
   "metadata": {},
   "outputs": [
    {
     "name": "stdout",
     "output_type": "stream",
     "text": [
      "Dataset initial size:  (90072, 23)\n",
      "Dataset final size:  (26179, 25)\n",
      "Dataset initial size:  (31200, 23)\n",
      "Dataset final size:  (16432, 25)\n",
      "Dataset initial size:  (90072, 23)\n",
      "Dataset final size:  (26328, 25)\n",
      "Dataset initial size:  (90072, 23)\n",
      "Dataset final size:  (26309, 25)\n",
      "Dataset initial size:  (90072, 23)\n",
      "Dataset final size:  (24295, 25)\n",
      "Dataset initial size:  (90072, 23)\n",
      "Dataset final size:  (21906, 25)\n",
      "Dataset initial size:  (90072, 23)\n",
      "Dataset final size:  (21968, 25)\n",
      "Dataset initial size:  (58416, 23)\n",
      "Dataset final size:  (26261, 25)\n",
      "Dataset initial size:  (90072, 23)\n",
      "Dataset final size:  (25194, 25)\n",
      "Dataset initial size:  (90072, 23)\n",
      "Dataset final size:  (22296, 25)\n"
     ]
    }
   ],
   "source": [
    "df_station_statistics = pd.read_csv(\"./../../data/automatic_stations_wind_statistics.csv\")\n",
    "station_codes = ['A431','A458', 'A409', 'A401', 'A413', 'A406', 'A442', 'A450', 'A434', 'A436']\n",
    "station_names = ['CONDE','RIBEIRA DO AMPARO', 'ARACAJU', 'SALVADOR', 'FEIRA DE SANTANA', 'CRUZ DAS ALMAS', 'EUCLIDES DA CUNHA',\n",
    "                 'JEREMOABO', 'AMARGOSA', 'QUEIMADAS']\n",
    "\n",
    "df_stations = []\n",
    "for station_code,station_name in zip(station_codes,station_names):\n",
    "    station_file_name = glob.glob(f'./../../data/raw/*{station_code}*')[0]\n",
    "    df_raw = pd.read_csv(station_file_name,header=9,sep=';')\n",
    "    df = initial_data_preprocessing(df_raw,minimum_date='2018-01-01',maximum_date='2021-01-01')\n",
    "    df['NAME'] = station_name\n",
    "    df['CODE'] = station_code\n",
    "    df['LATITUDE'] = df_station_statistics.query(\"CD_ESTACAO == @station_code\")['LATITUDE'].iloc[0]\n",
    "    df['LONGITUDE'] = df_station_statistics.query(\"CD_ESTACAO == @station_code\")['LONGITUDE'].iloc[0]\n",
    "    df['ALTITUDE'] = df_station_statistics.query(\"CD_ESTACAO == @station_code\")['ALTITUDE'].iloc[0]\n",
    "    df_stations.append(df)\n",
    "df_stations = pd.concat(df_stations)"
   ]
  },
  {
   "cell_type": "code",
   "execution_count": 3,
   "metadata": {},
   "outputs": [],
   "source": [
    "df_stations = df_stations[['TOTAL_PRECIPITATION_mm', 'ATM_PRESSURE_mB', 'ATM_PRESSURE_SEA_LEVEL_mB', \n",
    "'MAX_ATM_PRESSURE_PREV_HOUR_mB', 'MIN_ATM_PRESSURE_PREV_HOUR_mB', 'GLOBAL_RADIATION_Kjm2', \n",
    "'AIR_TEMPERATURE_DRY_BULB_Celsius', 'DEW_POINT_TEMPERATURE_Celsius', 'MAX_TEMPERATURE_PREV_HOUR_Celsius', \n",
    "'MIN_TEMPERATURE_PREV_HOUR_Celsius', 'DEW_POINT_MAX_TEMPERATURE_PREV_HOUR_Celsius', 'DEW_POINT_MIN_TEMPERATURE_PREV_HOUR_Celsius',\n",
    "'MAX_RELATIVE_HUMIDITY_PREV_HOUR_percentage', 'MIN_RELATIVE_HUMIDITY_PREV_HOUR_percentage', 'RELATIVE_HUMIDITY_percentage', \n",
    "'WIND_DIRECTION_degrees', 'WIND_MAX_GUNS_ms', 'WIND_SPEED_ms', 'WIND_SPEED_120m_ms', \n",
    "'LATITUDE', 'LONGITUDE', 'ALTITUDE', 'YEAR', 'MONTH', 'DAY', 'HOUR', 'DATETIME', 'NAME', 'CODE']]\n",
    "\n",
    "df_stations.to_csv(\"./../../data/preprocessed/wind_data_conde_and_adjacent_stations.csv\",index=False)"
   ]
  },
  {
   "cell_type": "code",
   "execution_count": 59,
   "metadata": {},
   "outputs": [
    {
     "data": {
      "text/html": [
       "<div>\n",
       "<style scoped>\n",
       "    .dataframe tbody tr th:only-of-type {\n",
       "        vertical-align: middle;\n",
       "    }\n",
       "\n",
       "    .dataframe tbody tr th {\n",
       "        vertical-align: top;\n",
       "    }\n",
       "\n",
       "    .dataframe thead th {\n",
       "        text-align: right;\n",
       "    }\n",
       "</style>\n",
       "<table border=\"1\" class=\"dataframe\">\n",
       "  <thead>\n",
       "    <tr style=\"text-align: right;\">\n",
       "      <th></th>\n",
       "      <th>WIND_DIRECTION_degrees</th>\n",
       "      <th>WIND_SPEED_ms</th>\n",
       "    </tr>\n",
       "    <tr>\n",
       "      <th>YEAR</th>\n",
       "      <th></th>\n",
       "      <th></th>\n",
       "    </tr>\n",
       "  </thead>\n",
       "  <tbody>\n",
       "    <tr>\n",
       "      <th>2018</th>\n",
       "      <td>75356</td>\n",
       "      <td>75362</td>\n",
       "    </tr>\n",
       "    <tr>\n",
       "      <th>2019</th>\n",
       "      <td>84178</td>\n",
       "      <td>84179</td>\n",
       "    </tr>\n",
       "    <tr>\n",
       "      <th>2020</th>\n",
       "      <td>77069</td>\n",
       "      <td>77075</td>\n",
       "    </tr>\n",
       "    <tr>\n",
       "      <th>2021</th>\n",
       "      <td>182</td>\n",
       "      <td>182</td>\n",
       "    </tr>\n",
       "  </tbody>\n",
       "</table>\n",
       "</div>"
      ],
      "text/plain": [
       "      WIND_DIRECTION_degrees  WIND_SPEED_ms\n",
       "YEAR                                       \n",
       "2018                   75356          75362\n",
       "2019                   84178          84179\n",
       "2020                   77069          77075\n",
       "2021                     182            182"
      ]
     },
     "execution_count": 59,
     "metadata": {},
     "output_type": "execute_result"
    }
   ],
   "source": [
    "df_stations.groupby(\"YEAR\").count()[['WIND_DIRECTION_degrees','WIND_SPEED_ms']]"
   ]
  },
  {
   "cell_type": "code",
   "execution_count": 96,
   "metadata": {},
   "outputs": [
    {
     "data": {
      "text/html": [
       "<div>\n",
       "<style scoped>\n",
       "    .dataframe tbody tr th:only-of-type {\n",
       "        vertical-align: middle;\n",
       "    }\n",
       "\n",
       "    .dataframe tbody tr th {\n",
       "        vertical-align: top;\n",
       "    }\n",
       "\n",
       "    .dataframe thead th {\n",
       "        text-align: right;\n",
       "    }\n",
       "</style>\n",
       "<table border=\"1\" class=\"dataframe\">\n",
       "  <thead>\n",
       "    <tr style=\"text-align: right;\">\n",
       "      <th></th>\n",
       "      <th>TOTAL_PRECIPITATION_mm</th>\n",
       "      <th>ATM_PRESSURE_mB</th>\n",
       "      <th>ATM_PRESSURE_SEA_LEVEL_mB</th>\n",
       "      <th>MAX_ATM_PRESSURE_PREV_HOUR_mB</th>\n",
       "      <th>MIN_ATM_PRESSURE_PREV_HOUR_mB</th>\n",
       "      <th>GLOBAL_RADIATION_Kjm2</th>\n",
       "      <th>AIR_TEMPERATURE_DRY_BULB_Celsius</th>\n",
       "      <th>DEW_POINT_TEMPERATURE_Celsius</th>\n",
       "      <th>MAX_TEMPERATURE_PREV_HOUR_Celsius</th>\n",
       "      <th>MIN_TEMPERATURE_PREV_HOUR_Celsius</th>\n",
       "      <th>DEW_POINT_MAX_TEMPERATURE_PREV_HOUR_Celsius</th>\n",
       "      <th>DEW_POINT_MIN_TEMPERATURE_PREV_HOUR_Celsius</th>\n",
       "      <th>MAX_RELATIVE_HUMIDITY_PREV_HOUR_percentage</th>\n",
       "      <th>MIN_RELATIVE_HUMIDITY_PREV_HOUR_percentage</th>\n",
       "      <th>RELATIVE_HUMIDITY_percentage</th>\n",
       "      <th>WIND_DIRECTION_degrees</th>\n",
       "      <th>WIND_MAX_GUNS_ms</th>\n",
       "      <th>WIND_SPEED_ms</th>\n",
       "      <th>WIND_SPEED_120m_ms</th>\n",
       "      <th>YEAR</th>\n",
       "      <th>MONTH</th>\n",
       "      <th>DAY</th>\n",
       "      <th>HOUR</th>\n",
       "      <th>DATETIME</th>\n",
       "      <th>NAME</th>\n",
       "      <th>CODE</th>\n",
       "      <th>LATITUDE</th>\n",
       "      <th>LONGITUDE</th>\n",
       "      <th>ALTITUDE</th>\n",
       "    </tr>\n",
       "  </thead>\n",
       "  <tbody>\n",
       "    <tr>\n",
       "      <th>0</th>\n",
       "      <td>0.0</td>\n",
       "      <td>1009.6</td>\n",
       "      <td>NaN</td>\n",
       "      <td>1009.6</td>\n",
       "      <td>1009.3</td>\n",
       "      <td>-3.54</td>\n",
       "      <td>26.1</td>\n",
       "      <td>23.5</td>\n",
       "      <td>26.3</td>\n",
       "      <td>26.0</td>\n",
       "      <td>23.6</td>\n",
       "      <td>23.3</td>\n",
       "      <td>86.0</td>\n",
       "      <td>84.0</td>\n",
       "      <td>86.0</td>\n",
       "      <td>81.0</td>\n",
       "      <td>7.4</td>\n",
       "      <td>3.9</td>\n",
       "      <td>6.085471</td>\n",
       "      <td>2018</td>\n",
       "      <td>01</td>\n",
       "      <td>01</td>\n",
       "      <td>0</td>\n",
       "      <td>2018-01-01 00:00:00</td>\n",
       "      <td>CONDE</td>\n",
       "      <td>A431</td>\n",
       "      <td>-12.035833</td>\n",
       "      <td>-37.683889</td>\n",
       "      <td>31.9</td>\n",
       "    </tr>\n",
       "    <tr>\n",
       "      <th>1</th>\n",
       "      <td>0.0</td>\n",
       "      <td>1009.7</td>\n",
       "      <td>1013.559272</td>\n",
       "      <td>1009.8</td>\n",
       "      <td>1009.6</td>\n",
       "      <td>-3.54</td>\n",
       "      <td>26.1</td>\n",
       "      <td>23.3</td>\n",
       "      <td>26.1</td>\n",
       "      <td>26.0</td>\n",
       "      <td>23.7</td>\n",
       "      <td>23.3</td>\n",
       "      <td>87.0</td>\n",
       "      <td>85.0</td>\n",
       "      <td>85.0</td>\n",
       "      <td>80.0</td>\n",
       "      <td>8.1</td>\n",
       "      <td>4.3</td>\n",
       "      <td>6.709622</td>\n",
       "      <td>2018</td>\n",
       "      <td>01</td>\n",
       "      <td>01</td>\n",
       "      <td>1</td>\n",
       "      <td>2018-01-01 01:00:00</td>\n",
       "      <td>CONDE</td>\n",
       "      <td>A431</td>\n",
       "      <td>-12.035833</td>\n",
       "      <td>-37.683889</td>\n",
       "      <td>31.9</td>\n",
       "    </tr>\n",
       "    <tr>\n",
       "      <th>2</th>\n",
       "      <td>0.0</td>\n",
       "      <td>1009.7</td>\n",
       "      <td>1013.560564</td>\n",
       "      <td>1009.9</td>\n",
       "      <td>1009.7</td>\n",
       "      <td>-3.54</td>\n",
       "      <td>26.0</td>\n",
       "      <td>23.4</td>\n",
       "      <td>26.1</td>\n",
       "      <td>26.0</td>\n",
       "      <td>23.5</td>\n",
       "      <td>23.3</td>\n",
       "      <td>86.0</td>\n",
       "      <td>85.0</td>\n",
       "      <td>85.0</td>\n",
       "      <td>89.0</td>\n",
       "      <td>9.3</td>\n",
       "      <td>5.6</td>\n",
       "      <td>8.738112</td>\n",
       "      <td>2018</td>\n",
       "      <td>01</td>\n",
       "      <td>01</td>\n",
       "      <td>2</td>\n",
       "      <td>2018-01-01 02:00:00</td>\n",
       "      <td>CONDE</td>\n",
       "      <td>A431</td>\n",
       "      <td>-12.035833</td>\n",
       "      <td>-37.683889</td>\n",
       "      <td>31.9</td>\n",
       "    </tr>\n",
       "  </tbody>\n",
       "</table>\n",
       "</div>"
      ],
      "text/plain": [
       "   TOTAL_PRECIPITATION_mm  ATM_PRESSURE_mB  ATM_PRESSURE_SEA_LEVEL_mB  MAX_ATM_PRESSURE_PREV_HOUR_mB  MIN_ATM_PRESSURE_PREV_HOUR_mB  GLOBAL_RADIATION_Kjm2  AIR_TEMPERATURE_DRY_BULB_Celsius  DEW_POINT_TEMPERATURE_Celsius  MAX_TEMPERATURE_PREV_HOUR_Celsius  MIN_TEMPERATURE_PREV_HOUR_Celsius  DEW_POINT_MAX_TEMPERATURE_PREV_HOUR_Celsius  DEW_POINT_MIN_TEMPERATURE_PREV_HOUR_Celsius  MAX_RELATIVE_HUMIDITY_PREV_HOUR_percentage  MIN_RELATIVE_HUMIDITY_PREV_HOUR_percentage  RELATIVE_HUMIDITY_percentage  WIND_DIRECTION_degrees  WIND_MAX_GUNS_ms  WIND_SPEED_ms  WIND_SPEED_120m_ms  YEAR MONTH DAY  HOUR            DATETIME   NAME  CODE   LATITUDE  LONGITUDE  ALTITUDE\n",
       "0                     0.0           1009.6                        NaN                         1009.6                         1009.3                  -3.54                              26.1                           23.5                               26.3                               26.0                                         23.6                                         23.3                                        86.0                                        84.0                          86.0                    81.0               7.4            3.9            6.085471  2018    01  01     0 2018-01-01 00:00:00  CONDE  A431 -12.035833 -37.683889      31.9\n",
       "1                     0.0           1009.7                1013.559272                         1009.8                         1009.6                  -3.54                              26.1                           23.3                               26.1                               26.0                                         23.7                                         23.3                                        87.0                                        85.0                          85.0                    80.0               8.1            4.3            6.709622  2018    01  01     1 2018-01-01 01:00:00  CONDE  A431 -12.035833 -37.683889      31.9\n",
       "2                     0.0           1009.7                1013.560564                         1009.9                         1009.7                  -3.54                              26.0                           23.4                               26.1                               26.0                                         23.5                                         23.3                                        86.0                                        85.0                          85.0                    89.0               9.3            5.6            8.738112  2018    01  01     2 2018-01-01 02:00:00  CONDE  A431 -12.035833 -37.683889      31.9"
      ]
     },
     "execution_count": 96,
     "metadata": {},
     "output_type": "execute_result"
    }
   ],
   "source": [
    "df_stations.head(3)"
   ]
  },
  {
   "cell_type": "code",
   "execution_count": 93,
   "metadata": {},
   "outputs": [
    {
     "data": {
      "text/plain": [
       "(16432, 29)"
      ]
     },
     "execution_count": 93,
     "metadata": {},
     "output_type": "execute_result"
    }
   ],
   "source": [
    "df_stations.query(\"NAME == 'RIBEIRA DO AMPARO'\").shape"
   ]
  },
  {
   "cell_type": "code",
   "execution_count": 98,
   "metadata": {},
   "outputs": [
    {
     "data": {
      "text/plain": [
       "(19875, 28)"
      ]
     },
     "execution_count": 98,
     "metadata": {},
     "output_type": "execute_result"
    }
   ],
   "source": [
    "df_stations.query(\"NAME == 'RIBEIRA DO AMPARO'\").set_index('DATETIME').resample('1H').asfreq().shape"
   ]
  }
 ],
 "metadata": {
  "interpreter": {
   "hash": "ff5b71a57004aac41c92d4008d66e8c8a20573ad91c6a09451338db6162a1ae6"
  },
  "kernelspec": {
   "display_name": "Python 3.10.4 ('base_ml')",
   "language": "python",
   "name": "python3"
  },
  "language_info": {
   "codemirror_mode": {
    "name": "ipython",
    "version": 3
   },
   "file_extension": ".py",
   "mimetype": "text/x-python",
   "name": "python",
   "nbconvert_exporter": "python",
   "pygments_lexer": "ipython3",
   "version": "3.10.4"
  },
  "orig_nbformat": 4
 },
 "nbformat": 4,
 "nbformat_minor": 2
}
