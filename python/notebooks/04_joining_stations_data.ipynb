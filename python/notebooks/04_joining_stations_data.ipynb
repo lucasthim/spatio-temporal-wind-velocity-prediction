{
 "cells": [
  {
   "cell_type": "markdown",
   "metadata": {},
   "source": [
    "# Joining and Analysing data from all stations"
   ]
  },
  {
   "cell_type": "code",
   "execution_count": 34,
   "metadata": {},
   "outputs": [
    {
     "name": "stdout",
     "output_type": "stream",
     "text": [
      "The autoreload extension is already loaded. To reload it, use:\n",
      "  %reload_ext autoreload\n"
     ]
    }
   ],
   "source": [
    "import glob\n",
    "\n",
    "import pandas as pd\n",
    "import numpy as np\n",
    "import matplotlib.pyplot as plt\n",
    "import seaborn as sns\n",
    "\n",
    "%load_ext autoreload\n",
    "%autoreload 2\n",
    "from data_preprocessing import *\n",
    "\n",
    "pd.set_option('display.max_rows', 100)\n",
    "pd.set_option('display.max_columns', 1000)\n",
    "pd.set_option('display.width', 1000)"
   ]
  },
  {
   "cell_type": "code",
   "execution_count": 35,
   "metadata": {},
   "outputs": [
    {
     "name": "stdout",
     "output_type": "stream",
     "text": [
      "Dataset initial size:  (90072, 23)\n",
      "Dataset final size:  (26179, 25)\n",
      "Dataset initial size:  (31200, 23)\n",
      "Dataset final size:  (16432, 25)\n",
      "Dataset initial size:  (90072, 23)\n",
      "Dataset final size:  (26328, 25)\n",
      "Dataset initial size:  (90072, 23)\n",
      "Dataset final size:  (26309, 25)\n",
      "Dataset initial size:  (90072, 23)\n",
      "Dataset final size:  (24295, 25)\n",
      "Dataset initial size:  (90072, 23)\n",
      "Dataset final size:  (21906, 25)\n",
      "Dataset initial size:  (90072, 23)\n",
      "Dataset final size:  (21968, 25)\n",
      "Dataset initial size:  (58416, 23)\n",
      "Dataset final size:  (26261, 25)\n",
      "Dataset initial size:  (90072, 23)\n",
      "Dataset final size:  (25194, 25)\n",
      "Dataset initial size:  (90072, 23)\n",
      "Dataset final size:  (22296, 25)\n"
     ]
    }
   ],
   "source": [
    "df_station_statistics = pd.read_csv(\"./../../data/automatic_stations_wind_statistics.csv\")\n",
    "station_codes = ['A431','A458', 'A409', 'A401', 'A413', 'A406', 'A442', 'A450', 'A434', 'A436']\n",
    "station_names = ['CONDE','RIBEIRA DO AMPARO', 'ARACAJU', 'SALVADOR', 'FEIRA DE SANTANA', 'CRUZ DAS ALMAS', 'EUCLIDES DA CUNHA',\n",
    "                 'JEREMOABO', 'AMARGOSA', 'QUEIMADAS']\n",
    "\n",
    "df_stations = []\n",
    "for station_code,station_name in zip(station_codes,station_names):\n",
    "    station_file_name = glob.glob(f'./../../data/raw/*{station_code}*')[0]\n",
    "    df_raw = pd.read_csv(station_file_name,header=9,sep=';')\n",
    "    df = initial_data_preprocessing(df_raw,minimum_date='2018-01-01',maximum_date='2021-01-01')\n",
    "    df['NAME'] = station_name\n",
    "    df['CODE'] = station_code\n",
    "    df['LATITUDE'] = df_station_statistics.query(\"CD_ESTACAO == @station_code\")['LATITUDE'].iloc[0]\n",
    "    df['LONGITUDE'] = df_station_statistics.query(\"CD_ESTACAO == @station_code\")['LONGITUDE'].iloc[0]\n",
    "    df['ALTITUDE'] = df_station_statistics.query(\"CD_ESTACAO == @station_code\")['ALTITUDE'].iloc[0]\n",
    "    df_stations.append(df)\n",
    "df_stations = pd.concat(df_stations)"
   ]
  },
  {
   "cell_type": "code",
   "execution_count": 45,
   "metadata": {},
   "outputs": [],
   "source": [
    "df_stations = df_stations[['TOTAL_PRECIPITATION_mm', 'ATM_PRESSURE_mB', 'ATM_PRESSURE_SEA_LEVEL_mB', \n",
    "'MAX_ATM_PRESSURE_PREV_HOUR_mB', 'MIN_ATM_PRESSURE_PREV_HOUR_mB', 'GLOBAL_RADIATION_Kjm2', \n",
    "'AIR_TEMPERATURE_DRY_BULB_Celsius', 'DEW_POINT_TEMPERATURE_Celsius', 'MAX_TEMPERATURE_PREV_HOUR_Celsius', \n",
    "'MIN_TEMPERATURE_PREV_HOUR_Celsius', 'DEW_POINT_MAX_TEMPERATURE_PREV_HOUR_Celsius', 'DEW_POINT_MIN_TEMPERATURE_PREV_HOUR_Celsius',\n",
    "'MAX_RELATIVE_HUMIDITY_PREV_HOUR_percentage', 'MIN_RELATIVE_HUMIDITY_PREV_HOUR_percentage', 'RELATIVE_HUMIDITY_percentage', \n",
    "'WIND_DIRECTION_degrees', 'WIND_MAX_GUNS_ms', 'WIND_SPEED_ms', 'WIND_SPEED_120m_ms',\n",
    "'YEAR', 'MONTH', 'DAY', 'HOUR', 'DATETIME', 'NAME', 'CODE', 'LATITUDE', 'LONGITUDE', 'ALTITUDE']]\n",
    "\n",
    "df_stations.to_csv(\"./../../data/preprocessed/wind_data_conde_and_adjacent_stations.csv\",index=False)"
   ]
  },
  {
   "cell_type": "code",
   "execution_count": 59,
   "metadata": {},
   "outputs": [
    {
     "data": {
      "text/html": [
       "<div>\n",
       "<style scoped>\n",
       "    .dataframe tbody tr th:only-of-type {\n",
       "        vertical-align: middle;\n",
       "    }\n",
       "\n",
       "    .dataframe tbody tr th {\n",
       "        vertical-align: top;\n",
       "    }\n",
       "\n",
       "    .dataframe thead th {\n",
       "        text-align: right;\n",
       "    }\n",
       "</style>\n",
       "<table border=\"1\" class=\"dataframe\">\n",
       "  <thead>\n",
       "    <tr style=\"text-align: right;\">\n",
       "      <th></th>\n",
       "      <th>WIND_DIRECTION_degrees</th>\n",
       "      <th>WIND_SPEED_ms</th>\n",
       "    </tr>\n",
       "    <tr>\n",
       "      <th>YEAR</th>\n",
       "      <th></th>\n",
       "      <th></th>\n",
       "    </tr>\n",
       "  </thead>\n",
       "  <tbody>\n",
       "    <tr>\n",
       "      <th>2018</th>\n",
       "      <td>75356</td>\n",
       "      <td>75362</td>\n",
       "    </tr>\n",
       "    <tr>\n",
       "      <th>2019</th>\n",
       "      <td>84178</td>\n",
       "      <td>84179</td>\n",
       "    </tr>\n",
       "    <tr>\n",
       "      <th>2020</th>\n",
       "      <td>77069</td>\n",
       "      <td>77075</td>\n",
       "    </tr>\n",
       "    <tr>\n",
       "      <th>2021</th>\n",
       "      <td>182</td>\n",
       "      <td>182</td>\n",
       "    </tr>\n",
       "  </tbody>\n",
       "</table>\n",
       "</div>"
      ],
      "text/plain": [
       "      WIND_DIRECTION_degrees  WIND_SPEED_ms\n",
       "YEAR                                       \n",
       "2018                   75356          75362\n",
       "2019                   84178          84179\n",
       "2020                   77069          77075\n",
       "2021                     182            182"
      ]
     },
     "execution_count": 59,
     "metadata": {},
     "output_type": "execute_result"
    }
   ],
   "source": [
    "df_stations.groupby(\"YEAR\").count()[['WIND_DIRECTION_degrees','WIND_SPEED_ms']]"
   ]
  }
 ],
 "metadata": {
  "interpreter": {
   "hash": "ff5b71a57004aac41c92d4008d66e8c8a20573ad91c6a09451338db6162a1ae6"
  },
  "kernelspec": {
   "display_name": "Python 3.10.4 ('base_ml')",
   "language": "python",
   "name": "python3"
  },
  "language_info": {
   "codemirror_mode": {
    "name": "ipython",
    "version": 3
   },
   "file_extension": ".py",
   "mimetype": "text/x-python",
   "name": "python",
   "nbconvert_exporter": "python",
   "pygments_lexer": "ipython3",
   "version": "3.10.4"
  },
  "orig_nbformat": 4
 },
 "nbformat": 4,
 "nbformat_minor": 2
}
